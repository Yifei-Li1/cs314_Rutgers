{
 "cells": [
  {
   "cell_type": "markdown",
   "metadata": {},
   "source": [
    "## Important notes about grading:\n",
    "\n",
    "1. **Compiler errors:** All code you submit must compile. Programs that do not compile will receive an automatic zero. If you are having trouble getting your assignment to compile, please visit office hours. If you run out of time, it is better to comment out the parts that do not compile, than hand in a more complete file that does not compile.\n",
    "2. **Late assignments:** There is no grace period for the final project. You must submit your code before the deadline. Verify on Sakai that you have submitted the correct version. Submitting the incorrect version before the deadline and realizing that you have done so after the deadline will be counted as a no-submission."
   ]
  },
  {
   "cell_type": "markdown",
   "metadata": {},
   "source": [
    "## How to Start:\n",
    "\n",
    "1. Download the source code [here](https://rowangithub.github.io/cs314_s20/assignments/final.zip).\n",
    "\n",
    "2. You will need to implement your code in `final/final.ml`. We give detailed instructions on the functions that you need to implement below. You only need to implement functions with `raise (Failure \"Not implemented\")`. Delete this line after implementation is done.\n",
    "\n",
    "3. The test-cases (also seen below) are provided in `final/test/public.ml` (if using `Dune`) and `final/main.ml` (if using `Make`).\n",
    "\n",
    "4. To compile and run your implementation, we provide two options:<br>\n",
    "  Option (1): Using `Dune`: type `dune runtest -f` in the command-line window under `final` directory.<br>\n",
    "  Option (2): Using `Make`: First, to compile the code, type `make` in the command-line window under `final` directory. Second, to run the code, type `./final.byte` in the command-line window under `final` directory."
   ]
  },
  {
   "cell_type": "markdown",
   "metadata": {
    "nbgrader": {
     "cell_type": "markdown",
     "checksum": "485156e97d9fe896e284ee206e904f16",
     "grade": false,
     "grade_id": "cell-19709d5de597aa34",
     "locked": true,
     "schema_version": 3,
     "solution": false,
     "task": false
    }
   },
   "source": [
    "## A Prolog interpreter in OCaml\n",
    "\n",
    "In this project, you will implement a Prolog interpreter in OCaml. \n",
    "\n",
    "### Pseudocode\n",
    "Your main task is to implement the `non-deterministic` abstract interpreter covered in the lecture `Control in Prolog`. The **pseudocode** of the abstract interpreter is in the lecture note.\n",
    "\n",
    "### Bonus \n",
    "There is also a bonus task for implementing a `deterministic` Prolog interpreter with support for backtracking (recover from bad choices) and choice points (produce multiple results). Please refer to the lecture notes `Programming with Lists` and `Control in Prolog` for more details about this algorithm."
   ]
  },
  {
   "cell_type": "markdown",
   "metadata": {},
   "source": [
    "### Randomness\n",
    "\n",
    "Because randomness is the key to the success of the non-deterministic abstract interpreter (please see the lecture note `Control in Prolog` to find why), we first initialize the randomness generator with a random seed chosen in a system-dependent way."
   ]
  },
  {
   "cell_type": "code",
   "execution_count": null,
   "metadata": {},
   "outputs": [],
   "source": [
    "open Stdlib\n",
    "\n",
    "let _  = Random.self_init ()"
   ]
  },
  {
   "cell_type": "markdown",
   "metadata": {},
   "source": [
    "### Abstract Syntax Tree\n",
    "\n",
    "To implement the abstract interpreter, we will start with the definition of prolog terms (i.e. abstract syntax tree)."
   ]
  },
  {
   "cell_type": "code",
   "execution_count": null,
   "metadata": {},
   "outputs": [],
   "source": [
    "type term =\n",
    "  | Constant of string                   (* Prolog constants, e.g., rickard, ned, robb, a, b, ... *)\n",
    "  | Variable of string                   (* Prolog variables, e.g., X, Y, Z, ... *)\n",
    "  | Function of string * term list       (* Prolog functions, e.g., append(X, Y, Z), father(rickard, ned), \n",
    "                                          ancestor(Z, Y), cons (H, T) abbreviated as [H|T] in SWI-Prolog, ... \n",
    "                                          The first component of Function is the name of the function, \n",
    "                                          whose parameters are in a term list, the second component of Function.*)"
   ]
  },
  {
   "cell_type": "markdown",
   "metadata": {},
   "source": [
    "A Prolog `program` consists of `clauses` and `goals`. A `clause` can be either a `fact` or a `rule`. \n",
    "\n",
    "A Prolog `rule` is in the shape of `head :- body`. For example, \n",
    "```\n",
    "ancestor(X, Y) :- father(X, Z), ancestor(Z, Y).\n",
    "```\n",
    "In the above rule (also called a clause), `ancestor(X, Y)` is the `head` of the rule, which is a Prolog `Function` defined in the type `term` above. The rule's `body` is a list of terms: `father(X, Z)` and `ancestor(Z, Y)`. Both are Prolog `Function`s.\n",
    "\n",
    "A Prolog `fact` is simply a `Function` defined in the type `term`. For example,\n",
    "```\n",
    "father(rickard, ned).\n",
    "```\n",
    "In the above fact (also a clause), we say rickard is ned's father.\n",
    "\n",
    "A Prolog goal (also called a query) is a list of Prolog `Function`s, which is typed as a list of terms. For example,\n",
    "```\n",
    "?- ancestor(rickard, robb), ancestor(X, robb).\n",
    "```\n",
    "In the above `goal`, we are interested in two queries which are Prolog `Function`s: `ancestor(rickard, robb)` and `ancestor(X, robb)`."
   ]
  },
  {
   "cell_type": "code",
   "execution_count": null,
   "metadata": {
    "nbgrader": {
     "cell_type": "code",
     "checksum": "6c2da10587cbcf862b42991b85a1694d",
     "grade": false,
     "grade_id": "cell-850219ab9c627b3e",
     "locked": true,
     "schema_version": 3,
     "solution": false,
     "task": false
    }
   },
   "outputs": [],
   "source": [
    "type head = term           (* The head of a rule is a Prolog Function *)\n",
    "type body = term list      (* The body of a rule is a list of Prolog Functions *)\n",
    "\n",
    "type clause = Fact of head | Rule of head * body (* A rule is in the shape head :- body *)\n",
    "\n",
    "type program = clause list (* A program consists of a list of clauses in which we have either rules or facts. *)\n",
    "\n",
    "type goal = term list      (* A goal is a query that consists of a few functions *)"
   ]
  },
  {
   "cell_type": "markdown",
   "metadata": {
    "nbgrader": {
     "cell_type": "markdown",
     "checksum": "51f04252716e8caf4c141b41abffd6e4",
     "grade": false,
     "grade_id": "cell-67006c29f852db56",
     "locked": true,
     "schema_version": 3,
     "solution": false,
     "task": false
    }
   },
   "source": [
    "The following stringification functions should help you debug the interpreter. "
   ]
  },
  {
   "cell_type": "code",
   "execution_count": null,
   "metadata": {
    "nbgrader": {
     "cell_type": "code",
     "checksum": "d30001f0b52434a66087f8917b49cde6",
     "grade": false,
     "grade_id": "cell-1ce7f8577e2f83b6",
     "locked": true,
     "schema_version": 3,
     "solution": false,
     "task": false
    }
   },
   "outputs": [],
   "source": [
    "let rec string_of_f_list f tl =\n",
    "  let _, s = List.fold_left (fun (first, s) t ->\n",
    "    let prefix = if first then \"\" else s ^ \", \" in\n",
    "    false, prefix ^ (f t)) (true,\"\") tl\n",
    "  in\n",
    "  s\n",
    "\n",
    "(* This function converts a Prolog term (e.g. a constant, variable or function) to a string *)\n",
    "let rec string_of_term t =\n",
    "  match t with\n",
    "  | Constant c -> c\n",
    "  | Variable v -> v\n",
    "  | Function (f,tl) ->\n",
    "      f ^ \"(\" ^ (string_of_f_list string_of_term tl) ^ \")\"\n",
    "\n",
    "(* This function converts a list of Prolog terms, separated by commas, to a string *)\n",
    "let string_of_term_list fl =\n",
    "  string_of_f_list string_of_term fl\n",
    "\n",
    "(* This function converts a Prolog goal (query) to a string *)\n",
    "let string_of_goal g =\n",
    "  \"?- \" ^ (string_of_term_list g)\n",
    "\n",
    "(* This function converts a Prolog clause (e.g. a rule or a fact) to a string *)\n",
    "let string_of_clause c =\n",
    "  match c with\n",
    "  | Fact f -> string_of_term f ^ \".\"\n",
    "  | Rule (h,b) -> string_of_term h ^ \" :- \" ^ (string_of_term_list b) ^ \".\"\n",
    "\n",
    "(* This function converts a Prolog program (a list of clauses), separated by \\n, to a string *)\n",
    "let string_of_program p =\n",
    "  let rec loop p acc =\n",
    "    match p with\n",
    "    | [] -> acc\n",
    "    | [c] -> acc ^ (string_of_clause c)\n",
    "    | c::t ->  loop t (acc ^ (string_of_clause c) ^ \"\\n\")\n",
    "  in loop p \"\""
   ]
  },
  {
   "cell_type": "markdown",
   "metadata": {
    "nbgrader": {
     "cell_type": "markdown",
     "checksum": "1e595cdef56b9f287ce409bab691af21",
     "grade": false,
     "grade_id": "cell-e7940771e46d768b",
     "locked": true,
     "schema_version": 3,
     "solution": false,
     "task": false
    }
   },
   "source": [
    "Below are more helper functions for you to easily construct a Prolog program using the defined data types:"
   ]
  },
  {
   "cell_type": "code",
   "execution_count": null,
   "metadata": {
    "nbgrader": {
     "cell_type": "code",
     "checksum": "1e1bbaed6a135e897176d18375fceab0",
     "grade": false,
     "grade_id": "cell-ffdac7359cc5accb",
     "locked": true,
     "schema_version": 3,
     "solution": false,
     "task": false
    }
   },
   "outputs": [],
   "source": [
    "let var v = Variable v          (* helper function to construct a Prolog Variable *)\n",
    "let const c = Constant c        (* helper function to construct a Prolog Constant *)\n",
    "let func f l = Function (f,l)   (* helper function to construct a Prolog Function *)\n",
    "let fact f = Fact f             (* helper function to construct a Prolog Fact *)\n",
    "let rule h b = Rule (h,b)       (* helper function to construct a Prolog Rule *)"
   ]
  },
  {
   "cell_type": "markdown",
   "metadata": {
    "nbgrader": {
     "cell_type": "markdown",
     "checksum": "c1b2cf4dc599d390b3d7d9a04982e7f2",
     "grade": false,
     "grade_id": "cell-9b1529f4a46180c0",
     "locked": true,
     "schema_version": 3,
     "solution": false,
     "task": false
    }
   },
   "source": [
    "## Problem 1\n",
    "\n",
    "In this problem, you will implement the function:\n",
    "\n",
    "```ocaml\n",
    "occurs_check : term -> term -> bool\n",
    "```\n",
    "\n",
    "`occurs_check v t` returns `true` if the Prolog `Variable` `v` occurs in `t`. Please see the lecture note `Control in Prolog` to revisit the concept of occurs-check.\n",
    "\n",
    "Hint: You don't need to use pattern matching to deconstruct `v` (type `term`) to compare the string value of `v` with that of another variable. You can compare two `Variable`s via structural equality, e.g. `Variable \"s\" = Variable \"s\"`. Note that you should use `=` rather than `==` for testing structural equality."
   ]
  },
  {
   "cell_type": "code",
   "execution_count": null,
   "metadata": {
    "nbgrader": {
     "cell_type": "code",
     "checksum": "4a7ee742dc0483b2c70c5b93e6e98d67",
     "grade": false,
     "grade_id": "cell-ec625c2e0cf9df17",
     "locked": false,
     "schema_version": 3,
     "solution": true,
     "task": false
    }
   },
   "outputs": [],
   "source": [
    "let rec occurs_check v t = \n",
    "  (* YOUR CODE HERE *)\n",
    "   raise (Failure \"Not implemented\")"
   ]
  },
  {
   "cell_type": "markdown",
   "metadata": {},
   "source": [
    "Examples and test-cases."
   ]
  },
  {
   "cell_type": "code",
   "execution_count": null,
   "metadata": {
    "nbgrader": {
     "cell_type": "code",
     "checksum": "2fb5b82749fec59f8b687a06d8346245",
     "grade": true,
     "grade_id": "cell-9acf04576c956341",
     "locked": true,
     "points": 5,
     "schema_version": 3,
     "solution": false,
     "task": false
    }
   },
   "outputs": [],
   "source": [
    "assert (occurs_check (var \"X\") (var \"X\"))\n",
    "assert (not (occurs_check (var \"X\") (var \"Y\")))\n",
    "assert (occurs_check (var \"X\") (func \"f\" [var \"X\"]))\n",
    "assert (occurs_check (var \"E\") (func \"cons\" [const \"a\"; const \"b\"; var \"E\"]))"
   ]
  },
  {
   "cell_type": "markdown",
   "metadata": {},
   "source": [
    "The last test-case above was taken from the example we used to illustrate the occurs-check problem in the lecture note `Control in Prolog`.\n",
    "```\n",
    "?- append([], E, [a,b | E]).\n",
    "```\n",
    "Here the `occurs_check` function asks whether the `Variable` E appears on the `Function` term `func \"cons\" [const \"a\"; const \"b\"; var \"E\"]`. The return value should be `true`."
   ]
  },
  {
   "cell_type": "markdown",
   "metadata": {
    "nbgrader": {
     "cell_type": "markdown",
     "checksum": "9946b346c4a01302df754a053ab859e9",
     "grade": false,
     "grade_id": "cell-e9ae49318a87096d",
     "locked": true,
     "schema_version": 3,
     "solution": false,
     "task": false
    }
   },
   "source": [
    "## Problem 2\n",
    "\n",
    "Implement the following functions which return the variables contained in a term or a clause (e.g. a rule or a fact):\n",
    "\n",
    "```ocaml\n",
    "variables_of_term      : term -> VarSet.t\n",
    "variables_of_clause    : clause -> VarSet.t\n",
    "```\n",
    "\n",
    "The result must be saved in a data structure of type `VarSet` that is instantiated from OCaml Set module. The type of each element (a Prolog `Variable`) in the set is `term` as defined above (`VarSet.t = term`).\n",
    "\n",
    "You may want to use `VarSet.singleton t` to return a singletion set containing only one element `t`, use `VarSet.empty` to represent an empty variable set, and use `VarSet.union t1 t2` to merge two variable sets `t1` and `t2`."
   ]
  },
  {
   "cell_type": "code",
   "execution_count": null,
   "metadata": {
    "nbgrader": {
     "cell_type": "code",
     "checksum": "ad79e69f998d1010b021da7a5e6acc84",
     "grade": false,
     "grade_id": "cell-ed4d6f79936e1c24",
     "locked": false,
     "schema_version": 3,
     "solution": true,
     "task": false
    }
   },
   "outputs": [],
   "source": [
    "module VarSet = Set.Make(struct type t = term let compare = Stdlib.compare end)\n",
    "(* API Docs for Set : https://caml.inria.fr/pub/docs/manual-ocaml/libref/Set.S.html *)\n",
    "\n",
    "let rec variables_of_term t = \n",
    "  (* YOUR CODE HERE *)\n",
    "   raise (Failure \"Not implemented\")\n",
    "  \n",
    "let variables_of_clause c =\n",
    "  (* YOUR CODE HERE *)\n",
    "   raise (Failure \"Not implemented\")"
   ]
  },
  {
   "cell_type": "markdown",
   "metadata": {},
   "source": [
    "Examples and test-cases:"
   ]
  },
  {
   "cell_type": "code",
   "execution_count": null,
   "metadata": {
    "nbgrader": {
     "cell_type": "code",
     "checksum": "5ccc14b8776e49f2ccbd789b5d7ca381",
     "grade": true,
     "grade_id": "cell-cdba426183c2cb44",
     "locked": true,
     "points": 5,
     "schema_version": 3,
     "solution": false,
     "task": false
    }
   },
   "outputs": [],
   "source": [
    "(* The variables in a function f (X, Y, a) is [X; Y] *)\n",
    "assert (variables_of_term (func \"f\" [var \"X\"; var \"Y\"; const \"a\"]) =\n",
    "        VarSet.of_list [var \"X\"; var \"Y\"])\n",
    "(* The variables in a Prolog fact p (X, Y, a) is [X; Y] *)\n",
    "assert (variables_of_clause (fact (func \"p\" [var \"X\"; var \"Y\"; const \"a\"])) =\n",
    "        VarSet.of_list [var \"X\"; var \"Y\"])\n",
    "(* The variables in a Prolog rule p (X, Y, a) :- q (a, b, a) is [X; Y] *)\n",
    "assert (variables_of_clause (rule (func \"p\" [var \"X\"; var \"Y\"; const \"a\"]) \n",
    "        [func \"q\" [const \"a\"; const \"b\"; const \"a\"]]) = \n",
    "        VarSet.of_list [var \"X\"; var \"Y\"])"
   ]
  },
  {
   "cell_type": "markdown",
   "metadata": {
    "nbgrader": {
     "cell_type": "markdown",
     "checksum": "62c7436c9abaaeb1827a648c07f6c9c4",
     "grade": false,
     "grade_id": "cell-046fe2476691fbc4",
     "locked": true,
     "schema_version": 3,
     "solution": false,
     "task": false
    }
   },
   "source": [
    "## Problem 3\n",
    "\n",
    "The value of type `term Substitution.t` is a OCaml map whose key is of type `term` and value is of type `term`. It is a map from variables to terms. Implement substitution functions that takes a `term Substitution.t` and uses that to perform the substitution:\n",
    "\n",
    "```ocaml\n",
    "substitute_in_term : term Substitution.t -> term -> term\n",
    "substitute_in_clause : term Substitution.t -> clause -> clause\n",
    "```\n",
    "\n",
    "See the lecture note `Control in Prolog` to revisit the concept of substitution. For example, $\\sigma = \\{X/a, Y/Z, Z/f(a,b)\\}$ is substitution. It is a map from variables `X, Y, Z` to terms `a, Z, f(a,b)`. Given a term $E = f(X,Y,Z)$, the substitution $E\\sigma$ is $f(a,Z,f(a,b))$.\n",
    "\n",
    "You may want to use the `Substitution.find_opt t s` function. The function takes a term (variable) `t` and a substitution map `s` as input and returns `None` if `t` is not a key in the map `s` or otherwise returns `Some t'` where `t' = s[t]`."
   ]
  },
  {
   "cell_type": "code",
   "execution_count": null,
   "metadata": {
    "nbgrader": {
     "cell_type": "code",
     "checksum": "e9867e2de5235fe4946b78369c0fd353",
     "grade": false,
     "grade_id": "cell-99475c4c37156fc5",
     "locked": false,
     "schema_version": 3,
     "solution": true,
     "task": false
    }
   },
   "outputs": [],
   "source": [
    "module Substitution = Map.Make(struct type t = term let compare = Stdlib.compare end)\n",
    "(* See API docs for OCaml Map: https://caml.inria.fr/pub/docs/manual-ocaml/libref/Map.S.html *)\n",
    "\n",
    "(* This funtion converts a substitution to a string (for debugging) *)\n",
    "let string_of_substitution s =\n",
    "  \"{\" ^ (\n",
    "    Substitution.fold (\n",
    "      fun v t s ->\n",
    "        match v with\n",
    "        | Variable v -> s ^ \"; \" ^ v ^ \" -> \" ^ (string_of_term t)\n",
    "        | Constant _ -> assert false (* Note: substitution maps a variable to a term! *)\n",
    "        | Function _ -> assert false (* Note: substitution maps a variable to a term! *)\n",
    "    ) s \"\"\n",
    "  ) ^ \"}\"\n",
    "  \n",
    "let rec substitute_in_term s t =\n",
    "  (* YOUR CODE HERE *)\n",
    "   raise (Failure \"Not implemented\")\n",
    "  \n",
    "let substitute_in_clause s c =\n",
    "  (* YOUR CODE HERE *)\n",
    "   raise (Failure \"Not implemented\")"
   ]
  },
  {
   "cell_type": "markdown",
   "metadata": {},
   "source": [
    "Examples and test-cases:"
   ]
  },
  {
   "cell_type": "code",
   "execution_count": null,
   "metadata": {
    "nbgrader": {
     "cell_type": "code",
     "checksum": "6b2a844125627960eeaee4cd453d1236",
     "grade": true,
     "grade_id": "cell-54f9db0e71e63244",
     "locked": true,
     "points": 10,
     "schema_version": 3,
     "solution": false,
     "task": false
    }
   },
   "outputs": [],
   "source": [
    "(* We create a substitution map s = [Y/0, X/Y] *)\n",
    "let s =\n",
    "  Substitution.add (var \"Y\") (const \"0\") (Substitution.add (var \"X\") (var \"Y\") Substitution.empty)\n",
    "\n",
    "(* Function substitution - f (X, Y, a) [Y/0, X/Y] = f (Y, 0, a) *)\n",
    "assert (substitute_in_term s (func \"f\" [var \"X\"; var \"Y\"; const \"a\"]) =\n",
    "        func \"f\" [var \"Y\"; const \"0\"; const \"a\"])\n",
    "(* Fact substitution - p (X, Y, a) [Y/0, X/Y] = p (Y, 0, a) *)\n",
    "assert (substitute_in_clause s (fact (func \"p\" [var \"X\"; var \"Y\"; const \"a\"])) =\n",
    "        (fact (func \"p\" [var \"Y\"; const \"0\"; const \"a\"])))\n",
    "(* Given a Prolog rule, p (X, Y, a) :- q (a, b, a), after doing substitution [Y/0, X/Y], \n",
    "                we have p (Y, 0, a) :- q (a, b, a) *)\n",
    "assert (substitute_in_clause s (rule (func \"p\" [var \"X\"; var \"Y\"; const \"a\"]) [func \"q\" [const \"a\"; const \"b\"; const \"a\"]]) =\n",
    "        (rule (func \"p\" [var \"Y\"; const \"0\"; const \"a\"]) [func \"q\" [const \"a\"; const \"b\"; const \"a\"]]))"
   ]
  },
  {
   "cell_type": "markdown",
   "metadata": {
    "nbgrader": {
     "cell_type": "markdown",
     "checksum": "6b46914a350b710b8d3eb56a90fe3083",
     "grade": false,
     "grade_id": "cell-6d4f2f7c721e109a",
     "locked": true,
     "schema_version": 3,
     "solution": false,
     "task": false
    }
   },
   "source": [
    "## Problem 4\n",
    "\n",
    "We first define a function `freshen` that given a clause, returns a clause where are the variables have been renamed with fresh variables. This function will be used for clause renaming in the implementation of `unification`."
   ]
  },
  {
   "cell_type": "code",
   "execution_count": null,
   "metadata": {
    "nbgrader": {
     "cell_type": "code",
     "checksum": "e8a0aa89d3680b8570bdff5e77bff84c",
     "grade": false,
     "grade_id": "cell-a1c09fcbea00af26",
     "locked": true,
     "schema_version": 3,
     "solution": false,
     "task": false
    }
   },
   "outputs": [],
   "source": [
    "let counter = ref 0\n",
    "let fresh () =\n",
    "  let c = !counter in\n",
    "  counter := !counter + 1;\n",
    "  Variable (\"_G\" ^ string_of_int c)\n",
    "\n",
    "let freshen c =\n",
    "  let vars = variables_of_clause c in\n",
    "  let s = VarSet.fold (fun v s -> Substitution.add v (fresh()) s) vars Substitution.empty in\n",
    "  substitute_in_clause s c"
   ]
  },
  {
   "cell_type": "markdown",
   "metadata": {
    "nbgrader": {
     "cell_type": "markdown",
     "checksum": "412b5e84d8da86c5dc03b26995eaff70",
     "grade": false,
     "grade_id": "cell-b79de977263be26b",
     "locked": true,
     "schema_version": 3,
     "solution": false,
     "task": false
    }
   },
   "source": [
    "For example, "
   ]
  },
  {
   "cell_type": "code",
   "execution_count": null,
   "metadata": {
    "nbgrader": {
     "cell_type": "code",
     "checksum": "b1ed9f9ce1b4948b3a94b8a960d8a844",
     "grade": false,
     "grade_id": "cell-ef219dd17f6f35de",
     "locked": true,
     "schema_version": 3,
     "solution": false,
     "task": false
    }
   },
   "outputs": [],
   "source": [
    "let c = (rule (func \"p\" [var \"X\"; var \"Y\"; const \"a\"]) [func \"q\" [var \"X\"; const \"b\"; const \"a\"]])\n",
    "(* The string representation of a rule c is p(X, Y, a) :- q(X, b, a). *)\n",
    "let _ = print_endline (string_of_clause c)\n",
    "(* After renaming, the string representation is p(_G0, _G1, a) :- q(_G0, b, a). \n",
    "   X is replaced by _G0 and Y is replaced by _G1. *)\n",
    "let _ = print_endline (string_of_clause (freshen c))"
   ]
  },
  {
   "cell_type": "markdown",
   "metadata": {
    "nbgrader": {
     "cell_type": "markdown",
     "checksum": "40f485b9e26f06ddf3c82be44ae87ab4",
     "grade": false,
     "grade_id": "cell-03038038a4a27f91",
     "locked": true,
     "schema_version": 3,
     "solution": false,
     "task": false
    }
   },
   "source": [
    "***The main task of problem 4 is implementing the function:***\n",
    "\n",
    "```ocaml\n",
    "unify : term -> term -> term Substitution.t\n",
    "```\n",
    "\n",
    "returns a unifier of the given terms. The function should raise the exception `raise Not_unfifiable`, if the given terms are not unifiable. You may find the **pseudocode** of `unify` in the lecture note `Control in Prolog` useful. "
   ]
  },
  {
   "cell_type": "code",
   "execution_count": null,
   "metadata": {
    "nbgrader": {
     "cell_type": "code",
     "checksum": "cae363502bf7f6da33dc05524cff04cf",
     "grade": false,
     "grade_id": "cell-a6686c74cd97b186",
     "locked": false,
     "schema_version": 3,
     "solution": true,
     "task": false
    }
   },
   "outputs": [],
   "source": [
    "exception Not_unifiable\n",
    "\n",
    "(* YOUR CODE HERE *)\n",
    " raise (Failure \"Not implemented\")\n",
    "\n",
    "let unify t1 t2 = \n",
    "  (* YOUR CODE HERE *)\n",
    "   raise (Failure \"Not implemented\")"
   ]
  },
  {
   "cell_type": "markdown",
   "metadata": {},
   "source": [
    "Examples and test-cases:"
   ]
  },
  {
   "cell_type": "code",
   "execution_count": null,
   "metadata": {
    "nbgrader": {
     "cell_type": "code",
     "checksum": "f52aba6883f69c92035b23b0fca48304",
     "grade": true,
     "grade_id": "cell-ac73e25efdb21c2f",
     "locked": true,
     "points": 15,
     "schema_version": 3,
     "solution": false,
     "task": false
    }
   },
   "outputs": [],
   "source": [
    "(* A substitution that can unify variable X and variable Y: {X->Y} or {Y->X} *)\n",
    "assert (string_of_substitution (unify (var \"X\") (var \"Y\")) = \"{; X -> Y}\" ||\n",
    "        string_of_substitution (unify (var \"X\") (var \"Y\")) = \"{; Y -> X}\")\n",
    "(* A substitution that can unify variable Y and variable X: {X->Y} pr {Y->X} *)\n",
    "assert (string_of_substitution (unify (var \"Y\") (var \"X\")) = \"{; X -> Y}\" ||\n",
    "        string_of_substitution (unify (var \"Y\") (var \"X\")) = \"{; Y -> X}\")\n",
    "(* A substitution that can unify variable Y and variable Y: empty set *)\n",
    "assert (unify (var \"Y\") (var \"Y\") = Substitution.empty)\n",
    "(* A substitution that can unify constant 0 and constant 0: empty set *)\n",
    "assert (unify (const \"0\") (const \"0\") = Substitution.empty)\n",
    "(* A substitution that can unify constant 0 and variable Y: {Y->0} *)\n",
    "assert (unify (const \"0\") (var \"Y\") = Substitution.singleton (var \"Y\") (const \"0\"))\n",
    "(* Cannot unify two distinct constants *)\n",
    "assert (\n",
    "  match unify (const \"0\") (const \"1\") with\n",
    "  | _ -> false\n",
    "  | exception Not_unifiable -> true)\n",
    "(* Cannot unify two functions with distinct function symbols *)\n",
    "assert (\n",
    "  match unify (func \"f\" [const \"0\"]) (func \"g\" [const \"1\"]) with\n",
    "  | _ -> false\n",
    "  | exception Not_unifiable -> true)\n",
    "(* A substitution that can unify function f(X) and function f(Y): {X->Y} or {Y->X} *)\n",
    "assert (unify (func \"f\" [var \"X\"]) (func \"f\" [var \"Y\"]) = Substitution.singleton (var \"X\") (var \"Y\") ||\n",
    "        unify (func \"f\" [var \"X\"]) (func \"f\" [var \"Y\"]) = Substitution.singleton (var \"Y\") (var \"X\"))"
   ]
  },
  {
   "cell_type": "code",
   "execution_count": null,
   "metadata": {
    "nbgrader": {
     "cell_type": "code",
     "checksum": "8d68e4034aca3cde9d9413f6426bed61",
     "grade": true,
     "grade_id": "cell-31521e057323948c",
     "locked": true,
     "points": 15,
     "schema_version": 3,
     "solution": false,
     "task": false
    }
   },
   "outputs": [],
   "source": [
    "(* A substitution that can unify function f(X,Y,Y) and function f(Y,Z,a): {X->a;Y->a;Z->a} *)\n",
    "let t1 = Function(\"f\", [Variable \"X\"; Variable \"Y\"; Variable \"Y\"])\n",
    "let t2 = Function(\"f\", [Variable \"Y\"; Variable \"Z\"; Variable \"a\"])\n",
    "let u = unify t1 t2\n",
    "let _ = assert (string_of_substitution u = \"{; X -> a; Y -> a; Z -> a}\")"
   ]
  },
  {
   "cell_type": "markdown",
   "metadata": {},
   "source": [
    "## Problem 5\n",
    "\n",
    "Following the pseudocode `Abstract interpreter` in the lecture note `Control in Prolog` to implement a nondeterministic Prolog interpreter:\n",
    "\n",
    "```ocaml\n",
    "nondet_query : clause list -> term list -> term list \n",
    "```\n",
    "\n",
    "where \n",
    "\n",
    "* the first argument is the `program` which is a list of clauses (rules and facts).\n",
    "* the second argument is the `goal` which is a list of terms.\n",
    "\n",
    "The function returns a list of terms (`results`), which is an instance of the original `goal` and is a logical consequence of the `program`. See tests cases for expected results.\n",
    "\n",
    "For the rule and goal order, choose randomly; please see the lecture note `Control in Prolog` to find why. You may find the function `Random.int n` useful. This function can randomly return an integer within `[0, n)`."
   ]
  },
  {
   "cell_type": "code",
   "execution_count": null,
   "metadata": {},
   "outputs": [],
   "source": [
    "let nondet_query program goal = \n",
    "  (* YOUR CODE HERE *)\n",
    "   raise (Failure \"Not implemented\")"
   ]
  },
  {
   "cell_type": "markdown",
   "metadata": {},
   "source": [
    "Examples and Test-cases:\n",
    "\n",
    "(1) Our first example is the House Stark program (lecture note `Prolog Basics`)."
   ]
  },
  {
   "cell_type": "code",
   "execution_count": null,
   "metadata": {},
   "outputs": [],
   "source": [
    "(* Define the House Stark program:\n",
    "\n",
    "father(rickard, ned).\n",
    "father(ned, robb).\n",
    "ancestor(X, Y) :- father(X, Y).\n",
    "ancestor(X, Y) :- father(X, Z), ancestor(Z, Y).\n",
    "\n",
    "*)\n",
    "let ancestor x y = func \"ancestor\" [x;y]\n",
    "let father x y = func \"father\" [x;y]\n",
    "let father_consts x y =  father (Constant x) (Constant y)\n",
    "let f1 = Fact (father_consts \"rickard\" \"ned\")\n",
    "let f2 = Fact (father_consts \"ned\" \"robb\")\n",
    "let r1 = Rule (ancestor (var \"X\") (var \"Y\"), [father (var \"X\") (var \"Y\")])\n",
    "let r2 = Rule (ancestor (var \"X\") (var \"Y\"), [father (var \"X\") (var \"Z\"); ancestor (var \"Z\") (var \"Y\")])\n",
    "\n",
    "let pstark = [f1;f2;r1;r2]\n",
    "let _ = print_endline (\"Program:\\n\" ^ (string_of_program pstark))\n",
    "\n",
    "(* Define a goal (query): \n",
    "\n",
    "?- ancestor(rickard, robb)\n",
    "\n",
    "The solution is the query itself.\n",
    "*)\n",
    "let g = [ancestor (const \"rickard\") (const \"robb\")]\n",
    "let _ = print_endline (\"Goal:\\n\" ^ (string_of_goal g))\n",
    "let g' = nondet_query pstark g\n",
    "let _ = print_endline (\"Solution:\\n\" ^ (string_of_goal g'))\n",
    "let _ = assert (g' = [ancestor (const \"rickard\") (const \"robb\")])\n",
    "\n",
    "(* Define a goal (query): \n",
    "\n",
    "?- ancestor(X, robb)\n",
    "\n",
    "The solution can be either ancestor(ned, robb) or ancestor(rickard, robb)\n",
    "*)\n",
    "let g = [ancestor (var \"X\") (const \"robb\")]\n",
    "let _ = print_endline (\"Goal:\\n\" ^ (string_of_goal g))\n",
    "let g' = nondet_query pstark g\n",
    "let _ = print_endline (\"Solution:\\n\" ^ (string_of_goal g') ^ \"\\n\")\n",
    "let _ = assert (g' = [ancestor (const \"ned\") (const \"robb\")] ||\n",
    "                g' = [ancestor (const \"rickard\") (const \"robb\")])"
   ]
  },
  {
   "cell_type": "markdown",
   "metadata": {},
   "source": [
    "(2) Our second example is the list append program (lecture note `Programming with Lists`)."
   ]
  },
  {
   "cell_type": "code",
   "execution_count": null,
   "metadata": {},
   "outputs": [],
   "source": [
    "(* Define the list append program:\n",
    "\n",
    "append(nil, Q, Q).\n",
    "append(cons(H, P), Q, cons(H, R)) :- append(P, Q, R).\n",
    "\n",
    "*)\n",
    "let nil = const \"nil\"\n",
    "let cons h t = func \"cons\" [h;t]\n",
    "let append x y z = func \"append\" [x;y;z]\n",
    "let c1 = fact @@ append nil (var \"Q\") (var \"Q\")\n",
    "let c2 = rule (append (cons (var \"H\") (var \"P\")) (var \"Q\") (cons (var \"H\") (var \"R\")))\n",
    "              [append (var \"P\") (var \"Q\") (var \"R\")]\n",
    "let pappend = [c1;c2]\n",
    "let _ = print_endline (\"Program:\\n\" ^ (string_of_program pappend))\n",
    "\n",
    "\n",
    "(* Define a goal (query): \n",
    "\n",
    "?- append(X, Y, cons(1, cons(2, cons(3, nil))))\n",
    "\n",
    "The solution can be any of the following four:\n",
    "Solution 1: ?- append(nil, cons(1, cons(2, cons(3, nil))), cons(1, cons(2, cons(3, nil))))\n",
    "Solution 2: ?- append(cons(1, nil), cons(2, cons(3, nil)), cons(1, cons(2, cons(3, nil))))\n",
    "Solution 3: ?- append(cons(1, cons(2, nil)), cons(3, nil), cons(1, cons(2, cons(3, nil))))\n",
    "Solution 4: ?- append(cons(1, cons(2, cons(3, nil))), nil, cons(1, cons(2, cons(3, nil))))\n",
    "*)\n",
    "let g = [append (var \"X\") (var \"Y\") (cons (const \"1\") (cons (const \"2\") (cons (const \"3\") nil)))]\n",
    "let _ = print_endline (\"Goal:\\n\" ^ (string_of_goal g))\n",
    "let g' = nondet_query pappend g\n",
    "let _ = print_endline (\"Solution:\\n\" ^ (string_of_goal g') ^ \"\\n\")\n",
    "let _ = assert (\n",
    "g' = [append nil (cons (const \"1\") (cons (const \"2\") (cons (const \"3\") nil))) (cons (const \"1\") (cons (const \"2\") (cons (const \"3\") nil)))] ||\n",
    "g' = [append (cons (const \"1\") nil) (cons (const \"2\") (cons (const \"3\") nil)) (cons (const \"1\") (cons (const \"2\") (cons (const \"3\") nil)))] ||\n",
    "g' = [append (cons (const \"1\") (cons (const \"2\") nil)) (cons (const \"3\") nil) (cons (const \"1\") (cons (const \"2\") (cons (const \"3\") nil)))] ||\n",
    "g' = [append (cons (const \"1\") (cons (const \"2\") (cons (const \"3\") nil))) nil (cons (const \"1\") (cons (const \"2\") (cons (const \"3\") nil)))] )\n"
   ]
  },
  {
   "cell_type": "markdown",
   "metadata": {},
   "source": [
    "The main problem of this non-deterministic abstract interpreter is that it cannot efficiently find all solutions, as the above two examples show. Let's fix this problem by implementing a deterministic interpreter similar to that used in SWI-Prolog."
   ]
  },
  {
   "cell_type": "markdown",
   "metadata": {
    "nbgrader": {
     "cell_type": "markdown",
     "checksum": "7ba77700015cb23c207fdd3b81486e87",
     "grade": false,
     "grade_id": "cell-8e65f0eac3712b7d",
     "locked": true,
     "schema_version": 3,
     "solution": false,
     "task": false
    }
   },
   "source": [
    "## Bonus Problem (16 lines of code)\n",
    "\n",
    "Implement the function:\n",
    "\n",
    "```ocaml\n",
    "query : clause list -> term list -> term list list \n",
    "```\n",
    "\n",
    "where \n",
    "\n",
    "* the first argument is the `program` which is a list of clauses.\n",
    "* the second argument is the `goal` which is a list of terms.\n",
    "\n",
    "The function returns a list of term lists (`results`). Each of these results is a instance of the original `goal` and is a logical consequence of the `program`. If the given `goal` is not a logical consequence of the `program`, then the result is an empty list. See tests cases for expected results.\n",
    "\n",
    "For the rule and goal order, choose what Prolog does; choose the left-most subgoal for goal order and first rule in the order in which the rules appear in the program for the rule order. \n",
    "\n",
    "Hint: Implement a purely functional recursive solution. The backtracking and choice points naturally fall out of the implementation. The reference solution is 16 lines long. "
   ]
  },
  {
   "cell_type": "code",
   "execution_count": null,
   "metadata": {
    "nbgrader": {
     "cell_type": "code",
     "checksum": "cd4f82d6d47199b779f257dbf85f712e",
     "grade": false,
     "grade_id": "cell-5ee2ae1832ba66df",
     "locked": false,
     "schema_version": 3,
     "solution": true,
     "task": false
    }
   },
   "outputs": [],
   "source": [
    "let query ?(limit=10) program goal = \n",
    "  (* YOUR CODE HERE *)\n",
    "   raise (Failure \"Not implemented\")"
   ]
  },
  {
   "cell_type": "markdown",
   "metadata": {},
   "source": [
    "Examples and Test-cases:\n",
    "\n",
    "(1) Our first example is the House Stark program (lecture note `Prolog Basics`)."
   ]
  },
  {
   "cell_type": "code",
   "execution_count": null,
   "metadata": {},
   "outputs": [],
   "source": [
    "(* Define the same goal (query) as above: \n",
    "\n",
    "?- ancestor(X, robb)\n",
    "\n",
    "The solution this time should include both ancestor(ned, robb) and ancestor(rickard, robb)\n",
    "*)\n",
    "let g = [ancestor (var \"X\") (const \"robb\")]\n",
    "let _ = print_endline (\"Goal:\\n\" ^ (string_of_goal g))\n",
    "let g1,g2 = match det_query pstark g with [v1;v2] -> v1,v2 | _ -> failwith \"error\"\n",
    "let _ = print_endline (\"Solution:\\n\" ^ (string_of_goal g1))\n",
    "let _ = print_endline (\"Solution:\\n\" ^ (string_of_goal g2) ^ \"\\n\")\n",
    "let _ = assert (g1 = [ancestor (const \"ned\") (const \"robb\")])\n",
    "let _ = assert (g2 = [ancestor (const \"rickard\") (const \"robb\")])"
   ]
  },
  {
   "cell_type": "markdown",
   "metadata": {},
   "source": [
    "(2) Our second example is the list append program (lecture note `Programming with Lists`)."
   ]
  },
  {
   "cell_type": "code",
   "execution_count": null,
   "metadata": {},
   "outputs": [],
   "source": [
    "(* Define the same goal (query) as above: \n",
    "\n",
    "?- append(X, Y, cons(1, cons(2, cons(3, nil))))\n",
    "\n",
    "The solution this time should include all of the following four:\n",
    "Solution 1: ?- append(nil, cons(1, cons(2, cons(3, nil))), cons(1, cons(2, cons(3, nil))))\n",
    "Solution 2: ?- append(cons(1, nil), cons(2, cons(3, nil)), cons(1, cons(2, cons(3, nil))))\n",
    "Solution 3: ?- append(cons(1, cons(2, nil)), cons(3, nil), cons(1, cons(2, cons(3, nil))))\n",
    "Solution 4: ?- append(cons(1, cons(2, cons(3, nil))), nil, cons(1, cons(2, cons(3, nil))))\n",
    "*)\n",
    "let g = [append (var \"X\") (var \"Y\") (cons (const \"1\") (cons (const \"2\") (cons (const \"3\") nil)))]\n",
    "let _ = print_endline (\"Goal:\\n\" ^ (string_of_goal g))\n",
    "let g' = det_query pappend g\n",
    "let _ = assert (List.length g' = 4)\n",
    "let _ = List.iter (fun g -> print_endline (\"Solution:\\n\" ^ (string_of_goal g))) g'"
   ]
  }
 ],
 "metadata": {
  "kernelspec": {
   "display_name": "OCaml 4.07.1",
   "language": "OCaml",
   "name": "ocaml-jupyter"
  },
  "language_info": {
   "codemirror_mode": "text/x-ocaml",
   "file_extension": ".ml",
   "mimetype": "text/x-ocaml",
   "name": "OCaml",
   "nbconverter_exporter": null,
   "pygments_lexer": "OCaml",
   "version": "4.07.1"
  }
 },
 "nbformat": 4,
 "nbformat_minor": 2
}
