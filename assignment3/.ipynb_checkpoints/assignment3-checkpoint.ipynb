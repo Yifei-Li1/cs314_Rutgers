{
 "cells": [
  {
   "cell_type": "markdown",
   "metadata": {},
   "source": [
    "## Important notes about grading:\n",
    "\n",
    "1. **Compiler errors:** All code you submit must compile. **Programs that do not compile will receive an automatic zero (firm rule this time)**. If you run out of time, it is better to comment out the parts that do not compile, than hand in a more complete file that does not compile.\n",
    "2. **Late assignments:** Please carefully review the course website's policy on late assignments, as all assignments handed in after the deadline will be considered late. Verify that you have submitted the correct version, before the deadline. Submitting the incorrect version before the deadline and realizing that you have done so after the deadline will **no longer** be accepted."
   ]
  },
  {
   "cell_type": "markdown",
   "metadata": {},
   "source": [
    "## How to start:\n",
    "\n",
    "1. Download the source code [here](https://rowangithub.github.io/cs314_s20/assignments/assignment3.zip).\n",
    "2. You will need to implement your code in `assignment3/src/assignment3.ml`. We give detailed instructions on the functions that you need to implement below.\n",
    "3. The test-cases (also given below) are provided in `assignment3/test/public.ml`.\n",
    "4. To compile and run your implementation, we provide two options:<br>\n",
    "  Option (1): Using `Dune`: type `dune runtest -f` in the command-line window under `assignment3` directory.<br>\n",
    "  Option (2): Without using `Dune`: First, to compile the code, type `make` in the command-line window under `assignment2` directory. Second, to run the code, type `./assignment2.byte` in the command-line window under `assignment2` directory."
   ]
  },
  {
   "cell_type": "markdown",
   "metadata": {
    "nbgrader": {
     "cell_type": "markdown",
     "checksum": "4a482350c4c533e29035f72039d94aec",
     "grade": false,
     "grade_id": "cell-17b894a32de272cd",
     "locked": true,
     "schema_version": 3,
     "solution": false,
     "task": false
    }
   },
   "source": [
    "# Mutability and Modules\n",
    "\n",
    "In this assignment, you will design and implement a couple of mutable data structures and operations on them. You can use library functions in your implementation for this assignment.\n",
    "\n",
    "## Problem 1\n",
    "\n",
    "Implement more functions for the `doubly linked list` mutable record covered in the lecture."
   ]
  },
  {
   "cell_type": "code",
   "execution_count": null,
   "metadata": {
    "nbgrader": {
     "cell_type": "code",
     "checksum": "d13973bede139512cdb7efc4f5050e5b",
     "grade": false,
     "grade_id": "cell-04b036908715fddb",
     "locked": true,
     "schema_version": 3,
     "solution": false,
     "task": false
    }
   },
   "outputs": [],
   "source": [
    "type 'a element = {\n",
    "  content : 'a;\n",
    "  mutable next : 'a element option;\n",
    "  mutable prev : 'a element option\n",
    "}"
   ]
  },
  {
   "cell_type": "markdown",
   "metadata": {},
   "source": [
    "The following functions were already covered in the lecture. Please **go over these functions again** before working on this problem."
   ]
  },
  {
   "cell_type": "code",
   "execution_count": null,
   "metadata": {
    "nbgrader": {
     "cell_type": "code",
     "checksum": "dfedefb773851bb1d065bcd1c801db24",
     "grade": false,
     "grade_id": "cell-158d909bf026ab70",
     "locked": false,
     "schema_version": 3,
     "solution": true,
     "task": false
    }
   },
   "outputs": [],
   "source": [
    "let create () = ref None\n",
    "\n",
    "let is_empty t = !t = None\n",
    "\n",
    "let insert_first l c =\n",
    "  let n = {content = c; next = !l; prev = None} in\n",
    "  let _ = match !l with\n",
    "    | Some o -> (o.prev <- Some n)\n",
    "    | None -> () in\n",
    "  let _ = (l := Some n) in\n",
    "  n\n",
    "\n",
    "let insert_after n c =\n",
    "  let n' = {content = c; next = n.next; prev = Some n} in\n",
    "  let _ =  match n.next with\n",
    "    | Some o -> (o.prev <- (Some n'))\n",
    "    | None -> () in\n",
    "  let _ = (n.next <- (Some n')) in\n",
    "  n'\n",
    "\n",
    "let remove t elt =\n",
    "  let prev, next = elt.prev, elt.next in\n",
    "  let _ = match prev with\n",
    "    | Some prev -> (prev.next <- next)\n",
    "    | None -> t := next in\n",
    "  let _ =  match next with\n",
    "    | Some next -> (next.prev <- prev)\n",
    "    | None -> () in\n",
    "  let _ = (elt.prev <- None) in\n",
    "  let _ = (elt.next <- None) in\n",
    "  ()      (* return void *)\n",
    "\n",
    "let iter t f =\n",
    "  let rec loop node =\n",
    "    match node with\n",
    "      | None -> ()\n",
    "      | Some el ->\n",
    "        let next = el.next in\n",
    "        let _ = f el in\n",
    "        loop (next)\n",
    "  in\n",
    "  loop !t"
   ]
  },
  {
   "cell_type": "markdown",
   "metadata": {},
   "source": [
    "Note that the `iter` function above was implemented a little differently than the version in the lecture."
   ]
  },
  {
   "cell_type": "markdown",
   "metadata": {},
   "source": [
    "You need to implement the following new fucntions:"
   ]
  },
  {
   "cell_type": "code",
   "execution_count": null,
   "metadata": {
    "nbgrader": {
     "cell_type": "code",
     "checksum": "da9cbadfccb874f0ae17da450d049f99",
     "grade": true,
     "grade_id": "cell-e2c519b404ae59d8",
     "locked": true,
     "points": 15,
     "schema_version": 3,
     "solution": false,
     "task": false
    }
   },
   "outputs": [],
   "source": [
    "(** Returns the length of the list. \n",
    "      Hint: Use [iter] to implement it. \n",
    "*)\n",
    "let length t = \n",
    "    (* YOUR CODE HERE *) \n",
    "    raise (Failure \"Not implemented\")\n",
    "\n",
    "\n",
    "(** [dll_of_list l] returns a new doubly linked list with the list of \n",
    "      elements from the OCaml (singly linked) list [l]. \n",
    "    val dll_of_list : 'a list -> 'a element option ref\n",
    "*)\n",
    "let dll_of_list l = \n",
    "    (* YOUR CODE HERE *) \n",
    "    raise (Failure \"Not implemented\")\n",
    "\n",
    "\n",
    "(** [list_of_dll t] returns a new OCaml (singly linked) list with the list of \n",
    "      elements from the doubly linked list [t]. \n",
    "      Hint: Use [iter] to implement it.\n",
    "    val dll_of_list : a element option ref -> 'a list\n",
    "*)\n",
    "let list_of_dll t = \n",
    "    (* YOUR CODE HERE *)\n",
    "    raise (Failure \"Not implemented\")\n",
    "\n",
    "\n",
    "(** Given a doubly linked list [t] = [1->2], [duplicate t] returns [1->1->2->2]. \n",
    "      [t] should reference the head of the duplicatd doubly linked list after the function returns.\n",
    "      Hint: Use [iter] to implement it. \n",
    "    val duplicate : 'a element option ref -> unit\n",
    "*)\n",
    "let duplicate t = \n",
    "    (* YOUR CODE HERE *)\n",
    "    raise (Failure \"Not implemented\")\n",
    "\n",
    "\n",
    "(** [reverse t] reverses a doubly linked list [t]\n",
    "      [t] should reference the head of the reversed doubly linked list after the function returns.\n",
    "      Hint: Use [iter] to implement it. \n",
    "    val reverse : 'a element option ref -> unit\n",
    "*)\n",
    "let reverse t = \n",
    "    (* YOUR CODE HERE *)\n",
    "    raise (Failure \"Not implemented\")"
   ]
  },
  {
   "cell_type": "markdown",
   "metadata": {},
   "source": [
    "## Some Test-cases:"
   ]
  },
  {
   "cell_type": "code",
   "execution_count": null,
   "metadata": {},
   "outputs": [],
   "source": [
    "let dll = dll_of_list [] in\n",
    "assert (is_empty dll = true)\n",
    "\n",
    "let dll = dll_of_list [1;2;3] in\n",
    "assert (not(is_empty dll = true))\n",
    "\n",
    "let dll = dll_of_list [1;2;3] in\n",
    "let s = ref 0 in\n",
    "let _ = iter dll (fun c -> s := !s + c.content) in\n",
    "assert (!s = 6)\n",
    "\n",
    "let dll = dll_of_list [1;2;3] in\n",
    "let n1 = match !dll with\n",
    "    | Some n1 -> n1\n",
    "    | None -> failwith \"impossible\" in\n",
    "let _ = assert (n1.content = 1)\n",
    "let l = list_of_dll dll in\n",
    "assert (l = [1;2;3])\n",
    "\n",
    "let l = dll_of_list [1;2;3] in\n",
    "let _ = assert (length l = 3) in\n",
    "let _ = duplicate l in\n",
    "let _ = assert (length l = 6)\n",
    "assert (list_of_dll dll = [1;1;2;2;3;3])\n",
    "\n",
    "let l = dll_of_list [1;2;3;4;5] in\n",
    "let _ = reverse l in\n",
    "assert (list_of_dll l = [5;4;3;2;1])"
   ]
  },
  {
   "cell_type": "markdown",
   "metadata": {
    "nbgrader": {
     "cell_type": "markdown",
     "checksum": "dbfb8259fe213acac10bfc6a201a74b5",
     "grade": false,
     "grade_id": "cell-78af33faae62f0b2",
     "locked": true,
     "schema_version": 3,
     "solution": false,
     "task": false
    }
   },
   "source": [
    "## Problem 2\n",
    "\n",
    "Implement more functors for the `Serializable` signature.\n",
    "\n",
    "A `fold` function is added to the `Serializable` signature. Since the signature serves as the abstraction of many data structures, it would be useful to include a `fold` definition to support useful data structure functions."
   ]
  },
  {
   "cell_type": "code",
   "execution_count": null,
   "metadata": {
    "nbgrader": {
     "cell_type": "code",
     "checksum": "3c70da653bf5de2f9f3816eb089a0a21",
     "grade": false,
     "grade_id": "cell-510c52c519be0f60",
     "locked": true,
     "schema_version": 3,
     "solution": false,
     "task": false
    }
   },
   "outputs": [],
   "source": [
    "module type Serializable = sig\n",
    "  type t       (* The type of a serializable data structure e.g. list and array *)\n",
    "  type content (* The type of nodes (e.g. list nodes or array cells) stored in the serializable data structure *)\n",
    "\n",
    "  val string_of_t : t -> string\n",
    "\n",
    "  val fold : ('a -> content -> 'a) -> 'a -> t -> 'a\n",
    "end"
   ]
  },
  {
   "cell_type": "markdown",
   "metadata": {},
   "source": [
    "Observe that the `fold` definition is similar to `List.fold_left`."
   ]
  },
  {
   "cell_type": "markdown",
   "metadata": {},
   "source": [
    "In the lecture, we created a `SerializableList` functor. You need to provide an implementation for the `fold` function, that was just introduced, in the `SerializableList` functor. You can use libraray functions in your implementation."
   ]
  },
  {
   "cell_type": "code",
   "execution_count": null,
   "metadata": {},
   "outputs": [],
   "source": [
    "module SerializableList (C : Serializable) = struct\n",
    "  type t = C.t list     (* The serializable data structure is a list *)\n",
    "  type content = C.t    (* Each node of the serializable data structure has a type C.t *)\n",
    "\n",
    "  let string_of_t l =\n",
    "    let rec loop acc l = match l with\n",
    "      | [] -> acc\n",
    "      | [x] -> acc ^ (C.string_of_t x)\n",
    "      | x::xs -> loop (acc ^ (C.string_of_t x) ^ \";\") xs\n",
    "    in\n",
    "    \"[\" ^ (loop \"\" l) ^ \"]\"\n",
    "\n",
    "  let fold f accum l =\n",
    "    (* YOUR CODE HERE *)\n",
    "     raise (Failure \"Not implemented\")\n",
    "end"
   ]
  },
  {
   "cell_type": "markdown",
   "metadata": {},
   "source": [
    "Similarly, provide a `SerializableArray` functor, which should look very much similar to `SerializableList`. You can find useful array APIs [here](https://caml.inria.fr/pub/docs/manual-ocaml/libref/Array.html)."
   ]
  },
  {
   "cell_type": "code",
   "execution_count": null,
   "metadata": {
    "nbgrader": {
     "cell_type": "code",
     "checksum": "c00c31f76c294f643e2940df9e62feb8",
     "grade": false,
     "grade_id": "cell-ef73360426263f29",
     "locked": false,
     "schema_version": 3,
     "solution": true,
     "task": false
    }
   },
   "outputs": [],
   "source": [
    "(* Implement the functor SerializableArray *)\n",
    "\n",
    "\n",
    "module SerializableArray (C : Serializable) = struct\n",
    "  (* YOUR CODE HERE *)\n",
    "   raise (Failure \"Not implemented\")\n",
    "end"
   ]
  },
  {
   "cell_type": "markdown",
   "metadata": {},
   "source": [
    "You can use the functors to create arbitrarily nested data structures. We start from simple ones like `SerializableFloatList` covered in the lecture."
   ]
  },
  {
   "cell_type": "code",
   "execution_count": null,
   "metadata": {
    "nbgrader": {
     "cell_type": "code",
     "checksum": "1be4769fc349d2e0056213030c6b8265",
     "grade": true,
     "grade_id": "cell-33796bd0b9bbeaaa",
     "locked": true,
     "points": 15,
     "schema_version": 3,
     "solution": false,
     "task": false
    }
   },
   "outputs": [],
   "source": [
    "module SerializableIntArray = SerializableArray (struct\n",
    "  type t = int\n",
    "  type content = int\n",
    "\n",
    "  let string_of_t x = string_of_int x\n",
    "  let fold f i res = f i res\n",
    "end)\n",
    "\n",
    "module SerializableIntList = SerializableList (struct\n",
    "  type t = int\n",
    "  type content = int\n",
    "\n",
    "  let string_of_t x = string_of_int x\n",
    "  let fold f i res = f i res\n",
    "end)"
   ]
  },
  {
   "cell_type": "markdown",
   "metadata": {},
   "source": [
    "In the above, a `SerializableIntArray` structure and a `SerializableIntList` structure were created by applying the functors. Each element in the serializable data structuers is an integer structure, which looks familiar to the float structure covered in the lecture.  "
   ]
  },
  {
   "cell_type": "markdown",
   "metadata": {},
   "source": [
    "Observe that the signature of `SerializableIntArray` and `SerializableIntList` are also Serializable.\n",
    "\n",
    "\n",
    "## Some Examples and Test-cases:"
   ]
  },
  {
   "cell_type": "code",
   "execution_count": null,
   "metadata": {},
   "outputs": [],
   "source": [
    "\n",
    "(* Behold the power of abstraction by creating nested arrays: *)\n",
    "module SerializableIntArrayArray = SerializableArray(SerializableIntArray)\n",
    "\n",
    "(* Behold the power of abstraction by creating arrays of lists: *)\n",
    "module SerializableIntListArray = SerializableArray(SerializableIntList)\n",
    "\n",
    "(* Behold the power of abstraction by creating lists of arrays: *)\n",
    "module SerializableIntArrayList = SerializableList(SerializableIntArray)\n",
    "\n",
    "\n",
    "(* array to string *)\n",
    "assert (SerializableIntArray.string_of_t [|1;2;3|] = \"[|1;2;3|]\")\n",
    "\n",
    "(* array of arrays to string*)\n",
    "assert (SerializableIntArrayArray.string_of_t [|[|1|]; [|2;3|]; [|4;5;6|]|] = \"[|[|1|];[|2;3|];[|4;5;6|]|]\")\n",
    "\n",
    "(* folding in all elements of an array of arrays to a plain list *)\n",
    "assert (SerializableIntArrayArray.fold (fun xs x -> xs @ [x]) [] [|[|1|]; [|2;3|]; [|4;5;6|]|] = [1;2;3;4;5;6])\n",
    "\n",
    "(* array of lists to string *)\n",
    "assert (SerializableIntListArray.string_of_t [|[7;8;9];[10;11;12];[13]|] = \"[|[7;8;9];[10;11;12];[13]|]\")\n",
    "\n",
    "(* folding in all elements of an array of lists to a number by adding them together *)\n",
    "assert (SerializableIntListArray.fold (+) 0 [|[7;8;9];[10;11;12];[13]|] = 70)\n",
    "\n",
    "(* list of arrays to string *)\n",
    "assert (SerializableIntArrayList.string_of_t [[|7;8;9|];[|10;11;12|];[|13|]] = \"[[|7;8;9|];[|10;11;12|];[|13|]]\")\n",
    "\n",
    "(* folding in all elements of a list of arrays to a number by adding them together *)\n",
    "assert (SerializableIntArrayList.fold (+) 0 [[|7;8;9|];[|10;11;12|];[|13|]] = 70)"
   ]
  },
  {
   "cell_type": "markdown",
   "metadata": {},
   "source": [
    "Via these examples, you should convince yourself that you can use functors to create arbitrarily nested data structures without having to write specific functions for each. This is the power of modularity!"
   ]
  }
 ],
 "metadata": {
  "kernelspec": {
   "display_name": "OCaml 4.07.1",
   "language": "OCaml",
   "name": "ocaml-jupyter"
  },
  "language_info": {
   "codemirror_mode": "text/x-ocaml",
   "file_extension": ".ml",
   "mimetype": "text/x-ocaml",
   "name": "OCaml",
   "nbconverter_exporter": null,
   "pygments_lexer": "OCaml",
   "version": "4.07.1"
  }
 },
 "nbformat": 4,
 "nbformat_minor": 2
}
